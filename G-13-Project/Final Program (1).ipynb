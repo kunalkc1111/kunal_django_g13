{
 "cells": [
  {
   "cell_type": "code",
   "execution_count": 2,
   "id": "6b44f9f7",
   "metadata": {},
   "outputs": [
    {
     "name": "stdout",
     "output_type": "stream",
     "text": [
      "How many terms? 15\n",
      "Fibonacci sequence:\n",
      "0\n",
      "1\n",
      "1\n",
      "2\n",
      "3\n",
      "5\n",
      "8\n",
      "13\n",
      "21\n",
      "34\n",
      "55\n",
      "89\n",
      "144\n",
      "233\n",
      "377\n"
     ]
    }
   ],
   "source": [
    "# Program to display the Fibonacci sequence up to n-th term\n",
    "\n",
    "nterms = int(input(\"How many terms? \"))\n",
    "\n",
    "# first two terms\n",
    "n1, n2 = 0, 1\n",
    "count = 0\n",
    "\n",
    "# check if the number of terms is valid\n",
    "if nterms <= 0:\n",
    "   print(\"Please enter a positive integer\")\n",
    "# if there is only one term, return n1\n",
    "elif nterms == 1:\n",
    "   print(\"Fibonacci sequence upto\",nterms,\":\")\n",
    "   print(n1)\n",
    "# generate fibonacci sequence\n",
    "else:\n",
    "   print(\"Fibonacci sequence:\")\n",
    "   while count < nterms:\n",
    "       print(n1)\n",
    "       nth = n1 + n2\n",
    "       # update values\n",
    "       n1 = n2\n",
    "       n2 = nth\n",
    "       count += 1"
   ]
  },
  {
   "cell_type": "code",
   "execution_count": null,
   "id": "168fd510",
   "metadata": {},
   "outputs": [],
   "source": []
  },
  {
   "cell_type": "code",
   "execution_count": null,
   "id": "8ef1f24e",
   "metadata": {},
   "outputs": [],
   "source": [
    "#sort a list without using sort keyword"
   ]
  },
  {
   "cell_type": "code",
   "execution_count": 3,
   "id": "d74beff7",
   "metadata": {},
   "outputs": [],
   "source": [
    "list1=[1,34,56,23,2,98,45,3,87,4]"
   ]
  },
  {
   "cell_type": "code",
   "execution_count": 6,
   "id": "24f0a2eb",
   "metadata": {},
   "outputs": [
    {
     "name": "stdout",
     "output_type": "stream",
     "text": [
      "56\n"
     ]
    }
   ],
   "source": [
    "print(list1[2])"
   ]
  },
  {
   "cell_type": "code",
   "execution_count": 12,
   "id": "b964d7cc",
   "metadata": {},
   "outputs": [
    {
     "name": "stdout",
     "output_type": "stream",
     "text": [
      "[1, 2, 3, 4, 23, 34, 45, 56, 87, 98]\n"
     ]
    }
   ],
   "source": [
    "list1=[1,34,56,23,2,98,45,3,87,4]\n",
    "n=len(list1)\n",
    "for i in range(n):\n",
    "    for j in range(i+1,n):\n",
    "        if list1[i]>list1[j]:\n",
    "            list1[i],list1[j]=list1[j],list1[i]\n",
    "            \n",
    "print(list1)"
   ]
  },
  {
   "cell_type": "code",
   "execution_count": 23,
   "id": "9ce537d8",
   "metadata": {},
   "outputs": [],
   "source": [
    "#using sort keyword\n",
    "list1=[1,34,56,23,2,98,45,3,87,4]"
   ]
  },
  {
   "cell_type": "code",
   "execution_count": 24,
   "id": "a77fc12a",
   "metadata": {},
   "outputs": [
    {
     "name": "stdout",
     "output_type": "stream",
     "text": [
      "[1, 2, 3, 4, 23, 34, 45, 56, 87, 98]\n"
     ]
    }
   ],
   "source": [
    "list1.sort()\n",
    "print(list1)"
   ]
  },
  {
   "cell_type": "code",
   "execution_count": null,
   "id": "e2185b81",
   "metadata": {},
   "outputs": [],
   "source": []
  },
  {
   "cell_type": "code",
   "execution_count": null,
   "id": "8065fa36",
   "metadata": {},
   "outputs": [],
   "source": [
    "#whether the string is palindrome"
   ]
  },
  {
   "cell_type": "code",
   "execution_count": null,
   "id": "2fc151e0",
   "metadata": {},
   "outputs": [],
   "source": [
    "#first method"
   ]
  },
  {
   "cell_type": "code",
   "execution_count": 37,
   "id": "fe64dfdc",
   "metadata": {},
   "outputs": [
    {
     "name": "stdout",
     "output_type": "stream",
     "text": [
      "enter the string:MalayaLAM\n",
      "the string is palindrome.\n"
     ]
    }
   ],
   "source": [
    "s=input(\"enter the string:\")\n",
    "s=s.casefold()\n",
    "def isPalindrome(s):\n",
    "    return s == s[::-1]\n",
    "\n",
    "ans = isPalindrome(s)\n",
    "\n",
    "if ans:\n",
    "    print(\"the string is palindrome.\")\n",
    "else:\n",
    "    print(\"the string is not palindrome.\")"
   ]
  },
  {
   "cell_type": "code",
   "execution_count": null,
   "id": "8c080f9f",
   "metadata": {},
   "outputs": [],
   "source": []
  },
  {
   "cell_type": "code",
   "execution_count": null,
   "id": "fae0e6ec",
   "metadata": {},
   "outputs": [],
   "source": [
    "#second method"
   ]
  },
  {
   "cell_type": "code",
   "execution_count": 38,
   "id": "3964a20d",
   "metadata": {},
   "outputs": [
    {
     "name": "stdout",
     "output_type": "stream",
     "text": [
      "enter the string:Rotor\n",
      "the string is palindrome.\n"
     ]
    }
   ],
   "source": [
    "# function to check string is\n",
    "# palindrome or not\n",
    "def isPalindrome(str):\n",
    "    for i in range(0, int(len(s)/2)):\n",
    "        if s[i] != str[len(s)-i-1]:\n",
    "            return False\n",
    "        return True\n",
    "\n",
    "s=input(\"enter the string:\")\n",
    "s=s.casefold()\n",
    "ans = isPalindrome(s)\n",
    "\n",
    "if ans:\n",
    "    print(\"the string is palindrome.\")\n",
    "else:\n",
    "    print(\"the string is not palindrome.\")"
   ]
  },
  {
   "cell_type": "code",
   "execution_count": null,
   "id": "7c9f8574",
   "metadata": {},
   "outputs": [],
   "source": []
  }
 ],
 "metadata": {
  "kernelspec": {
   "display_name": "Python 3 (ipykernel)",
   "language": "python",
   "name": "python3"
  },
  "language_info": {
   "codemirror_mode": {
    "name": "ipython",
    "version": 3
   },
   "file_extension": ".py",
   "mimetype": "text/x-python",
   "name": "python",
   "nbconvert_exporter": "python",
   "pygments_lexer": "ipython3",
   "version": "3.11.5"
  }
 },
 "nbformat": 4,
 "nbformat_minor": 5
}
